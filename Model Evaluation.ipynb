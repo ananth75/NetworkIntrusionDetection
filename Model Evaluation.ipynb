{
 "cells": [
  {
   "cell_type": "code",
   "execution_count": 1,
   "metadata": {
    "collapsed": true
   },
   "outputs": [],
   "source": [
    "import numpy as np\n",
    "import pandas as pd\n",
    "from sklearn.externals import joblib\n",
    "from sklearn.ensemble import RandomForestClassifier\n",
    "from xgboost import XGBClassifier\n",
    "np.random.seed(42)\n",
    "from sklearn.metrics import accuracy_score, precision_score, recall_score\n"
   ]
  },
  {
   "cell_type": "code",
   "execution_count": 2,
   "metadata": {
    "collapsed": true
   },
   "outputs": [],
   "source": [
    "# Dictionary that contains mapping of various attacks to the four main categories\n",
    "attack_dict = {\n",
    "    'normal': 'normal',\n",
    "   \n",
    "    'back': 'DoS',\n",
    "    'land': 'DoS',\n",
    "    'neptune': 'DoS',\n",
    "    'pod': 'DoS',\n",
    "    'smurf': 'DoS',\n",
    "    'teardrop': 'DoS',\n",
    "    'mailbomb': 'DoS',\n",
    "    'apache2': 'DoS',\n",
    "    'processtable': 'DoS',\n",
    "    'udpstorm': 'DoS',\n",
    "    \n",
    "    'ipsweep': 'Probe',\n",
    "    'nmap': 'Probe',\n",
    "    'portsweep': 'Probe',\n",
    "    'satan': 'Probe',\n",
    "    'mscan': 'Probe',\n",
    "    'saint': 'Probe',\n",
    "\n",
    "    'ftp_write': 'R2L',\n",
    "    'guess_passwd': 'R2L',\n",
    "    'imap': 'R2L',\n",
    "    'multihop': 'R2L',\n",
    "    'phf': 'R2L',\n",
    "    'spy': 'R2L',\n",
    "    'warezclient': 'R2L',\n",
    "    'warezmaster': 'R2L',\n",
    "    'sendmail': 'R2L',\n",
    "    'named': 'R2L',\n",
    "    'snmpgetattack': 'R2L',\n",
    "    'snmpguess': 'R2L',\n",
    "    'xlock': 'R2L',\n",
    "    'xsnoop': 'R2L',\n",
    "    'worm': 'R2L',\n",
    "    \n",
    "    'buffer_overflow': 'U2R',\n",
    "    'loadmodule': 'U2R',\n",
    "    'perl': 'U2R',\n",
    "    'rootkit': 'U2R',\n",
    "    'httptunnel': 'U2R',\n",
    "    'ps': 'U2R',    \n",
    "    'sqlattack': 'U2R',\n",
    "    'xterm': 'U2R'\n",
    "}"
   ]
  },
  {
   "cell_type": "code",
   "execution_count": 3,
   "metadata": {},
   "outputs": [
    {
     "data": {
      "text/plain": [
       "(148517, 42)"
      ]
     },
     "execution_count": 3,
     "metadata": {},
     "output_type": "execute_result"
    }
   ],
   "source": [
    "train_nsl_kdd_dataset_path = \"NSL_KDD_Dataset/KDDTrain+.txt\"\n",
    "col_names = np.array([\"duration\",\"protocol_type\",\"service\",\"flag\",\"src_bytes\",\n",
    "    \"dst_bytes\",\"land\",\"wrong_fragment\",\"urgent\",\"hot\",\"num_failed_logins\",\n",
    "    \"logged_in\",\"num_compromised\",\"root_shell\",\"su_attempted\",\"num_root\",\n",
    "    \"num_file_creations\",\"num_shells\",\"num_access_files\",\"num_outbound_cmds\",\n",
    "    \"is_host_login\",\"is_guest_login\",\"count\",\"srv_count\",\"serror_rate\",\n",
    "    \"srv_serror_rate\",\"rerror_rate\",\"srv_rerror_rate\",\"same_srv_rate\",\n",
    "    \"diff_srv_rate\",\"srv_diff_host_rate\",\"dst_host_count\",\"dst_host_srv_count\",\n",
    "    \"dst_host_same_srv_rate\",\"dst_host_diff_srv_rate\",\"dst_host_same_src_port_rate\",\n",
    "    \"dst_host_srv_diff_host_rate\",\"dst_host_serror_rate\",\"dst_host_srv_serror_rate\",\n",
    "    \"dst_host_rerror_rate\",\"dst_host_srv_rerror_rate\",\"labels\"])\n",
    "\n",
    "categoricalColumns = col_names[[1,2,3]]\n",
    "binaryColumns = col_names[[6, 11, 13, 14, 20, 21]]\n",
    "numericColumns = col_names[list(set(range(41)) - set([1,2,3]) - set([6, 11, 13, 14, 20, 21]))]\n",
    "\n",
    "train = pd.read_csv(train_nsl_kdd_dataset_path, header=None)\n",
    "train.drop([42], 1, inplace=True)\n",
    "train.columns = col_names\n",
    "\n",
    "testData = pd.read_csv(\"NSL_KDD_Dataset/KDDTest+.txt\", header=None)\n",
    "\n",
    "testData.drop([42], 1, inplace=True)\n",
    "testData.columns = col_names\n",
    "\n",
    "mergedDataSet = pd.concat([train, testData]).reset_index(drop=True)\n",
    "mergedDataSet.shape"
   ]
  },
  {
   "cell_type": "code",
   "execution_count": 4,
   "metadata": {
    "collapsed": true
   },
   "outputs": [],
   "source": [
    "# Performing all the encoding\n",
    "from sklearn.preprocessing import OneHotEncoder, LabelEncoder\n",
    "enc = LabelEncoder()\n",
    "#\n",
    "def encodeCategorical(ser):\n",
    "    return enc.fit_transform(ser)\n",
    "\n",
    "mergedDataSet['service'] = encodeCategorical(mergedDataSet['service'])\n",
    "mergedDataSet['flag'] = encodeCategorical(mergedDataSet['flag'])\n",
    "mergedDataSet = pd.get_dummies(mergedDataSet, columns=['protocol_type'])\n",
    "mergedDataSet['labelsMapped'] = mergedDataSet['labels'].map(lambda x: attack_dict[x])"
   ]
  },
  {
   "cell_type": "code",
   "execution_count": 5,
   "metadata": {
    "collapsed": true
   },
   "outputs": [],
   "source": [
    "testDataSet = mergedDataSet.loc[train.shape[0]:,:]\n",
    "trainDataSet = mergedDataSet.loc[:train.shape[0], :]"
   ]
  },
  {
   "cell_type": "code",
   "execution_count": 6,
   "metadata": {},
   "outputs": [
    {
     "name": "stderr",
     "output_type": "stream",
     "text": [
      "/Users/shashankbhushan/anaconda2/lib/python2.7/site-packages/ipykernel_launcher.py:12: RuntimeWarning: invalid value encountered in divide\n",
      "  if sys.path[0] == '':\n"
     ]
    },
    {
     "name": "stdout",
     "output_type": "stream",
     "text": [
      "OrderedDict([('num_shells', 326.11612426035498), ('urgent', 173.04120879120879), ('num_file_creations', 62.234118951224211), ('num_failed_logins', 46.03892188213797), ('hot', 40.774840493730785), ('logged_in', 10.569767441860465), ('dst_bytes', 9.1549270284904676), ('src_bytes', 8.4641313944594359), ('duration', 7.2258865173544695), ('dst_host_srv_diff_host_rate', 5.7569263820766396), ('dst_host_diff_srv_rate', 4.8373524734680329), ('num_access_files', 4.6949165175909364), ('dst_host_same_src_port_rate', 4.3931152520736072), ('num_compromised', 4.3385737152153654), ('diff_srv_rate', 4.0690870488934809), ('dst_host_srv_rerror_rate', 3.6677075035125544), ('srv_rerror_rate', 3.6675306730359276), ('rerror_rate', 3.6453737959679429), ('dst_host_rerror_rate', 3.2793738892262856), ('srv_diff_host_rate', 3.0815901722227639), ('wrong_fragment', 2.7428583870405849), ('dst_host_srv_serror_rate', 2.6731226120858391), ('srv_serror_rate', 2.6432097487171315), ('serror_rate', 2.6310182415379524), ('dst_host_serror_rate', 2.6293032738050797), ('num_root', 2.6091639656970118), ('count', 2.1173925186430997), ('dst_host_srv_count', 1.6453281162805804), ('dst_host_same_srv_rate', 1.5575902435127786), ('same_srv_rate', 1.507972446643268), ('dst_host_count', 1.3428566662140144), ('srv_count', 1.1773073019801006), ('root_shell', 1.0), ('su_attempted', 0.0020534186444460976), ('land', 0.00039207144412981921), ('is_host_login', 1.4849573817231445e-05), ('num_outbound_cmds', nan), ('is_guest_login', 0.45894428152492667)])\n"
     ]
    },
    {
     "data": {
      "text/html": [
       "<div>\n",
       "<style>\n",
       "    .dataframe thead tr:only-child th {\n",
       "        text-align: right;\n",
       "    }\n",
       "\n",
       "    .dataframe thead th {\n",
       "        text-align: left;\n",
       "    }\n",
       "\n",
       "    .dataframe tbody tr th {\n",
       "        vertical-align: top;\n",
       "    }\n",
       "</style>\n",
       "<table border=\"1\" class=\"dataframe\">\n",
       "  <thead>\n",
       "    <tr style=\"text-align: right;\">\n",
       "      <th></th>\n",
       "      <th>num_access_files</th>\n",
       "      <th>src_bytes</th>\n",
       "      <th>srv_count</th>\n",
       "      <th>num_compromised</th>\n",
       "      <th>rerror_rate</th>\n",
       "      <th>urgent</th>\n",
       "      <th>dst_host_same_srv_rate</th>\n",
       "      <th>duration</th>\n",
       "      <th>srv_rerror_rate</th>\n",
       "      <th>srv_serror_rate</th>\n",
       "      <th>...</th>\n",
       "      <th>dst_host_srv_rerror_rate</th>\n",
       "      <th>srv_diff_host_rate</th>\n",
       "      <th>num_failed_logins</th>\n",
       "      <th>dst_host_serror_rate</th>\n",
       "      <th>labelsMapped</th>\n",
       "      <th>protocol_type_icmp</th>\n",
       "      <th>protocol_type_tcp</th>\n",
       "      <th>protocol_type_udp</th>\n",
       "      <th>service</th>\n",
       "      <th>flag</th>\n",
       "    </tr>\n",
       "  </thead>\n",
       "  <tbody>\n",
       "    <tr>\n",
       "      <th>0</th>\n",
       "      <td>0</td>\n",
       "      <td>491</td>\n",
       "      <td>2</td>\n",
       "      <td>0</td>\n",
       "      <td>0.0</td>\n",
       "      <td>0</td>\n",
       "      <td>0.17</td>\n",
       "      <td>0</td>\n",
       "      <td>0.0</td>\n",
       "      <td>0.0</td>\n",
       "      <td>...</td>\n",
       "      <td>0.00</td>\n",
       "      <td>0.00</td>\n",
       "      <td>0</td>\n",
       "      <td>0.00</td>\n",
       "      <td>normal</td>\n",
       "      <td>0</td>\n",
       "      <td>1</td>\n",
       "      <td>0</td>\n",
       "      <td>20</td>\n",
       "      <td>9</td>\n",
       "    </tr>\n",
       "    <tr>\n",
       "      <th>1</th>\n",
       "      <td>0</td>\n",
       "      <td>146</td>\n",
       "      <td>1</td>\n",
       "      <td>0</td>\n",
       "      <td>0.0</td>\n",
       "      <td>0</td>\n",
       "      <td>0.00</td>\n",
       "      <td>0</td>\n",
       "      <td>0.0</td>\n",
       "      <td>0.0</td>\n",
       "      <td>...</td>\n",
       "      <td>0.00</td>\n",
       "      <td>0.00</td>\n",
       "      <td>0</td>\n",
       "      <td>0.00</td>\n",
       "      <td>normal</td>\n",
       "      <td>0</td>\n",
       "      <td>0</td>\n",
       "      <td>1</td>\n",
       "      <td>44</td>\n",
       "      <td>9</td>\n",
       "    </tr>\n",
       "    <tr>\n",
       "      <th>2</th>\n",
       "      <td>0</td>\n",
       "      <td>0</td>\n",
       "      <td>6</td>\n",
       "      <td>0</td>\n",
       "      <td>0.0</td>\n",
       "      <td>0</td>\n",
       "      <td>0.10</td>\n",
       "      <td>0</td>\n",
       "      <td>0.0</td>\n",
       "      <td>1.0</td>\n",
       "      <td>...</td>\n",
       "      <td>0.00</td>\n",
       "      <td>0.00</td>\n",
       "      <td>0</td>\n",
       "      <td>1.00</td>\n",
       "      <td>DoS</td>\n",
       "      <td>0</td>\n",
       "      <td>1</td>\n",
       "      <td>0</td>\n",
       "      <td>49</td>\n",
       "      <td>5</td>\n",
       "    </tr>\n",
       "    <tr>\n",
       "      <th>3</th>\n",
       "      <td>0</td>\n",
       "      <td>232</td>\n",
       "      <td>5</td>\n",
       "      <td>0</td>\n",
       "      <td>0.0</td>\n",
       "      <td>0</td>\n",
       "      <td>1.00</td>\n",
       "      <td>0</td>\n",
       "      <td>0.0</td>\n",
       "      <td>0.2</td>\n",
       "      <td>...</td>\n",
       "      <td>0.01</td>\n",
       "      <td>0.00</td>\n",
       "      <td>0</td>\n",
       "      <td>0.03</td>\n",
       "      <td>normal</td>\n",
       "      <td>0</td>\n",
       "      <td>1</td>\n",
       "      <td>0</td>\n",
       "      <td>24</td>\n",
       "      <td>9</td>\n",
       "    </tr>\n",
       "    <tr>\n",
       "      <th>4</th>\n",
       "      <td>0</td>\n",
       "      <td>199</td>\n",
       "      <td>32</td>\n",
       "      <td>0</td>\n",
       "      <td>0.0</td>\n",
       "      <td>0</td>\n",
       "      <td>1.00</td>\n",
       "      <td>0</td>\n",
       "      <td>0.0</td>\n",
       "      <td>0.0</td>\n",
       "      <td>...</td>\n",
       "      <td>0.00</td>\n",
       "      <td>0.09</td>\n",
       "      <td>0</td>\n",
       "      <td>0.00</td>\n",
       "      <td>normal</td>\n",
       "      <td>0</td>\n",
       "      <td>1</td>\n",
       "      <td>0</td>\n",
       "      <td>24</td>\n",
       "      <td>9</td>\n",
       "    </tr>\n",
       "  </tbody>\n",
       "</table>\n",
       "<p>5 rows × 39 columns</p>\n",
       "</div>"
      ],
      "text/plain": [
       "   num_access_files  src_bytes  srv_count  num_compromised  rerror_rate  \\\n",
       "0                 0        491          2                0          0.0   \n",
       "1                 0        146          1                0          0.0   \n",
       "2                 0          0          6                0          0.0   \n",
       "3                 0        232          5                0          0.0   \n",
       "4                 0        199         32                0          0.0   \n",
       "\n",
       "   urgent  dst_host_same_srv_rate  duration  srv_rerror_rate  srv_serror_rate  \\\n",
       "0       0                    0.17         0              0.0              0.0   \n",
       "1       0                    0.00         0              0.0              0.0   \n",
       "2       0                    0.10         0              0.0              1.0   \n",
       "3       0                    1.00         0              0.0              0.2   \n",
       "4       0                    1.00         0              0.0              0.0   \n",
       "\n",
       "   ...   dst_host_srv_rerror_rate  srv_diff_host_rate  num_failed_logins  \\\n",
       "0  ...                       0.00                0.00                  0   \n",
       "1  ...                       0.00                0.00                  0   \n",
       "2  ...                       0.00                0.00                  0   \n",
       "3  ...                       0.01                0.00                  0   \n",
       "4  ...                       0.00                0.09                  0   \n",
       "\n",
       "   dst_host_serror_rate  labelsMapped  protocol_type_icmp  protocol_type_tcp  \\\n",
       "0                  0.00        normal                   0                  1   \n",
       "1                  0.00        normal                   0                  0   \n",
       "2                  1.00           DoS                   0                  1   \n",
       "3                  0.03        normal                   0                  1   \n",
       "4                  0.00        normal                   0                  1   \n",
       "\n",
       "   protocol_type_udp  service  flag  \n",
       "0                  0       20     9  \n",
       "1                  1       44     9  \n",
       "2                  0       49     5  \n",
       "3                  0       24     9  \n",
       "4                  0       24     9  \n",
       "\n",
       "[5 rows x 39 columns]"
      ]
     },
     "execution_count": 6,
     "metadata": {},
     "output_type": "execute_result"
    }
   ],
   "source": [
    "#binaryColumns = list(binaryColumns) + list(categoricalColumns[1:]) + [u'protocol_type_icmp', u'protocol_type_tcp', u'protocol_type_udp']\n",
    "import sys\n",
    "from collections import OrderedDict\n",
    "e = sys.float_info.epsilon\n",
    "def calAttributeRatio(df, numericColumns,binaryColumns):\n",
    "    denom = {}\n",
    "    ar = {}\n",
    "    for col in numericColumns:\n",
    "        denom[col] = df[col].mean();\n",
    "\n",
    "    for col in numericColumns:\n",
    "        ar[col] = df.fillna(value=0.0).groupby('labelsMapped')[[col]].mean().max().values[0]/(denom[col])\n",
    "\n",
    "    def test_sum(series):\n",
    "        return (series.sum()/(len(series)-series.sum()+e))\n",
    "    for col in binaryColumns:\n",
    "        groups = df.groupby('labelsMapped')[[col]]\n",
    "        ar[col] = groups.aggregate([test_sum]).max().values[0]\n",
    "    return ar\n",
    "\n",
    "ar_op = calAttributeRatio(trainDataSet,numericColumns,binaryColumns)\n",
    "print(OrderedDict(sorted(ar_op.items(), key=lambda v: -v[1])))\n",
    "def selectTopFeaturesByAR(ar_op, min_ar):\n",
    "    return [c for c in ar_op.keys() if ar_op[c]>=min_ar]\n",
    "selectedFeatures = selectTopFeaturesByAR(ar_op,1.00)\n",
    "train_processed_selectedFeatures = pd.concat([trainDataSet[selectedFeatures], trainDataSet[['labelsMapped', u'protocol_type_icmp', u'protocol_type_tcp', u'protocol_type_udp', u'service', u'flag']]], axis=1)\n",
    "train_processed_selectedFeatures.head()"
   ]
  },
  {
   "cell_type": "code",
   "execution_count": 7,
   "metadata": {
    "collapsed": true
   },
   "outputs": [],
   "source": [
    "#removing the columns from test data set\n",
    "test_processed_selectedFeatures = testDataSet[train_processed_selectedFeatures.columns]"
   ]
  },
  {
   "cell_type": "code",
   "execution_count": 68,
   "metadata": {},
   "outputs": [
    {
     "name": "stdout",
     "output_type": "stream",
     "text": [
      "Accuracy Score 0.738644428673\n",
      "Precision Score 0.776658972406\n",
      "Recall Score 0.738644428673\n"
     ]
    }
   ],
   "source": [
    "#Loading the models\n",
    "rand_forest_mdl = RandomForestClassifier(n_estimators = 100, max_depth = 20, class_weight=\"balanced\")\n",
    "X = train_processed_selectedFeatures.drop(['labelsMapped'], 1).reset_index(drop=True)\n",
    "y = train_processed_selectedFeatures['labelsMapped'].reset_index(drop=True)\n",
    "rand_forest_mdl.fit(X, y)\n",
    "pred_y = rand_forest_mdl.predict(test_processed_selectedFeatures.drop(['labelsMapped'], 1))\n",
    "print 'Accuracy Score', accuracy_score(test_processed_selectedFeatures['labelsMapped'], pred_y)\n",
    "print 'Precision Score', precision_score(test_processed_selectedFeatures['labelsMapped'], pred_y, average = \"weighted\")\n",
    "print 'Recall Score', recall_score(test_processed_selectedFeatures['labelsMapped'], pred_y, average = \"weighted\")"
   ]
  },
  {
   "cell_type": "code",
   "execution_count": 69,
   "metadata": {},
   "outputs": [
    {
     "name": "stdout",
     "output_type": "stream",
     "text": [
      "Precision Score 0.819729104779\n",
      "Recall Score 0.773376508162\n"
     ]
    }
   ],
   "source": [
    "mdl_xgb = XGBClassifier(n_estimators = 100, max_depth = 15, learning_rate = 0.01)\n",
    "mdl_xgb.fit(X, y)\n",
    "pred_y_xgb = mdl_xgb.predict(test_processed_selectedFeatures.drop(['labelsMapped'], 1))\n",
    "print \"Accuracy Score\", accuracy_score(test_processed_selectedFeatures['labelsMapped'], pred_y_xgb)\n",
    "print 'Precision Score', precision_score(test_processed_selectedFeatures['labelsMapped'], pred_y_xgb, average = \"weighted\")\n",
    "print 'Recall Score', recall_score(test_processed_selectedFeatures['labelsMapped'], pred_y_xgb, average = \"weighted\")"
   ]
  },
  {
   "cell_type": "code",
   "execution_count": 8,
   "metadata": {},
   "outputs": [
    {
     "name": "stdout",
     "output_type": "stream",
     "text": [
      "Accuracy Score 0.776259758694\n",
      "Precision Score 0.966463049467\n",
      "Recall Score 0.628769578431\n"
     ]
    }
   ],
   "source": [
    "#Binary Attack check\n",
    "y_binary = train_processed_selectedFeatures['labelsMapped'].map(lambda x: 0 if x == \"normal\" else 1)\n",
    "rand_forest_mdl = RandomForestClassifier(n_estimators = 100, max_depth = 20, class_weight=\"balanced\")\n",
    "X = train_processed_selectedFeatures.drop(['labelsMapped'], 1).reset_index(drop=True)\n",
    "rand_forest_mdl.fit(X, y_binary)\n",
    "pred_y = rand_forest_mdl.predict(test_processed_selectedFeatures.drop(['labelsMapped'], 1))\n",
    "print \"Accuracy Score\", accuracy_score(test_processed_selectedFeatures['labelsMapped'].map(lambda x: 0 if x == \"normal\" else 1), pred_y)\n",
    "print 'Precision Score', precision_score(test_processed_selectedFeatures['labelsMapped'].map(lambda x: 0 if x == \"normal\" else 1), pred_y)\n",
    "print 'Recall Score', recall_score(test_processed_selectedFeatures['labelsMapped'].map(lambda x: 0 if x == \"normal\" else 1), pred_y)"
   ]
  },
  {
   "cell_type": "code",
   "execution_count": 9,
   "metadata": {},
   "outputs": [
    {
     "name": "stdout",
     "output_type": "stream",
     "text": [
      "Accuracy 0.770981192335\n",
      "Precision Score 0.966772151899\n",
      "Recall Score 0.618951141588\n"
     ]
    }
   ],
   "source": [
    "mdl_xgb_binary = XGBClassifier(n_estimators = 100, max_depth = 20, learning_rate = 1e-3)\n",
    "mdl_xgb_binary.fit(X, y_binary)\n",
    "pred_y_xgb_binary = mdl_xgb_binary.predict(test_processed_selectedFeatures.drop(['labelsMapped'], 1))\n",
    "print \"Accuracy\", accuracy_score(test_processed_selectedFeatures['labelsMapped'].map(lambda x: 0 if x == \"normal\" else 1), pred_y_xgb_binary)\n",
    "print 'Precision Score', precision_score(test_processed_selectedFeatures['labelsMapped'].map(lambda x: 0 if x == \"normal\" else 1), pred_y_xgb_binary)\n",
    "print 'Recall Score', recall_score(test_processed_selectedFeatures['labelsMapped'].map(lambda x: 0 if x == \"normal\" else 1), pred_y_xgb_binary)"
   ]
  },
  {
   "cell_type": "code",
   "execution_count": 21,
   "metadata": {},
   "outputs": [
    {
     "name": "stdout",
     "output_type": "stream",
     "text": [
      "Cut Off 0.43\n",
      "Accuracy 0.569242370476 Precision Score 0.569242370476 Recall Score 1.0\n",
      "*****************************************************\n",
      "Cut Off 0.432105263158\n",
      "Accuracy 0.569242370476 Precision Score 0.569242370476 Recall Score 1.0\n",
      "*****************************************************\n",
      "Cut Off 0.434210526316\n",
      "Accuracy 0.569242370476 Precision Score 0.569242370476 Recall Score 1.0\n",
      "*****************************************************\n",
      "Cut Off 0.436315789474\n",
      "Accuracy 0.569242370476 Precision Score 0.569242370476 Recall Score 1.0\n",
      "*****************************************************\n",
      "Cut Off 0.438421052632\n",
      "Accuracy 0.569242370476 Precision Score 0.569242370476 Recall Score 1.0\n",
      "*****************************************************\n",
      "Cut Off 0.440526315789\n",
      "Accuracy 0.569242370476 Precision Score 0.569242370476 Recall Score 1.0\n",
      "*****************************************************\n",
      "Cut Off 0.442631578947\n",
      "Accuracy 0.569242370476 Precision Score 0.569242370476 Recall Score 1.0\n",
      "*****************************************************\n",
      "Cut Off 0.444736842105\n",
      "Accuracy 0.569242370476 Precision Score 0.569242370476 Recall Score 1.0\n",
      "*****************************************************\n",
      "Cut Off 0.446842105263\n",
      "Accuracy 0.569242370476 Precision Score 0.569242370476 Recall Score 1.0\n",
      "*****************************************************\n",
      "Cut Off 0.448947368421\n",
      "Accuracy 0.569242370476 Precision Score 0.569242370476 Recall Score 1.0\n",
      "*****************************************************\n",
      "Cut Off 0.451052631579\n",
      "Accuracy 0.569242370476 Precision Score 0.569242370476 Recall Score 1.0\n",
      "*****************************************************\n",
      "Cut Off 0.453157894737\n",
      "Accuracy 0.865285663591 Precision Score 0.919349315068 Recall Score 0.836749006468\n",
      "*****************************************************\n",
      "Cut Off 0.455263157895\n",
      "Accuracy 0.829267210788 Precision Score 0.930515622005 Recall Score 0.756565105587\n",
      "*****************************************************\n",
      "Cut Off 0.457368421053\n",
      "Accuracy 0.803406671398 Precision Score 0.929104096435 Recall Score 0.708719707005\n",
      "*****************************************************\n",
      "Cut Off 0.459473684211\n",
      "Accuracy 0.803761533002 Precision Score 0.930127877238 Recall Score 0.7084859347\n",
      "*****************************************************\n",
      "Cut Off 0.461578947368\n",
      "Accuracy 0.803805890703 Precision Score 0.93022304072 Recall Score 0.7084859347\n",
      "*****************************************************\n",
      "Cut Off 0.463684210526\n",
      "Accuracy 0.77856635912 Precision Score 0.926280308796 Recall Score 0.663835424297\n",
      "*****************************************************\n",
      "Cut Off 0.465789473684\n",
      "Accuracy 0.778477643719 Precision Score 0.926357010769 Recall Score 0.663601651991\n",
      "*****************************************************\n",
      "Cut Off 0.467894736842\n",
      "Accuracy 0.778388928318 Precision Score 0.926340985747 Recall Score 0.663445803787\n",
      "*****************************************************\n",
      "Cut Off 0.47\n",
      "Accuracy 0.778433286018 Precision Score 0.926441784548 Recall Score 0.663445803787\n",
      "*****************************************************\n"
     ]
    }
   ],
   "source": [
    "pred_y_xgb_proba = mdl_xgb_binary.predict_proba(test_processed_selectedFeatures.drop(['labelsMapped'], 1))\n",
    "for cut in np.linspace(0.43, 0.47, 20):\n",
    "    pred_bin = map(lambda x: 1 if x[1] >= cut else 0 ,pred_y_xgb_proba)\n",
    "    acc = accuracy_score(test_processed_selectedFeatures['labelsMapped'].map(lambda x: 0 if x == \"normal\" else 1), pred_bin)\n",
    "    prec = precision_score(test_processed_selectedFeatures['labelsMapped'].map(lambda x: 0 if x == \"normal\" else 1), pred_bin)\n",
    "    recall = recall_score(test_processed_selectedFeatures['labelsMapped'].map(lambda x: 0 if x == \"normal\" else 1), pred_bin)\n",
    "    print \"Cut Off\", cut\n",
    "    print \"Accuracy\", acc, 'Precision Score', prec, 'Recall Score', recall\n",
    "    print '*'*53"
   ]
  },
  {
   "cell_type": "markdown",
   "metadata": {},
   "source": [
    "Binary Classification without AR\n",
    "Random Forest\n",
    " 0.76694464158978004\n",
    " \n",
    "With AR\n",
    " 0.77625975869410935"
   ]
  },
  {
   "cell_type": "code",
   "execution_count": 17,
   "metadata": {},
   "outputs": [
    {
     "data": {
      "text/plain": [
       "array([ 0.4524312,  0.5475688], dtype=float32)"
      ]
     },
     "execution_count": 17,
     "metadata": {},
     "output_type": "execute_result"
    }
   ],
   "source": [
    "'''\n",
    "Cut Off 0.452631578947\n",
    "Accuracy 0.852155784244 Precision Score 0.883931458131 Recall Score 0.852177978649\n",
    "'''"
   ]
  },
  {
   "cell_type": "code",
   "execution_count": 18,
   "metadata": {},
   "outputs": [
    {
     "data": {
      "text/plain": [
       "1"
      ]
     },
     "execution_count": 18,
     "metadata": {},
     "output_type": "execute_result"
    }
   ],
   "source": [
    "pred_y_xgb_binary[0]"
   ]
  },
  {
   "cell_type": "code",
   "execution_count": null,
   "metadata": {
    "collapsed": true
   },
   "outputs": [],
   "source": []
  }
 ],
 "metadata": {
  "kernelspec": {
   "display_name": "Python 2",
   "language": "python",
   "name": "python2"
  },
  "language_info": {
   "codemirror_mode": {
    "name": "ipython",
    "version": 2
   },
   "file_extension": ".py",
   "mimetype": "text/x-python",
   "name": "python",
   "nbconvert_exporter": "python",
   "pygments_lexer": "ipython2",
   "version": "2.7.14"
  }
 },
 "nbformat": 4,
 "nbformat_minor": 2
}
